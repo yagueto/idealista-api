{
 "cells": [
  {
   "cell_type": "code",
   "execution_count": null,
   "metadata": {
    "ExecuteTime": {
     "end_time": "2025-01-25T14:01:13.243257Z",
     "start_time": "2025-01-25T14:01:13.239165Z"
    }
   },
   "outputs": [],
   "source": [
    "import pandas as pd\n",
    "from idealista_api import Idealista, Search"
   ]
  },
  {
   "cell_type": "code",
   "execution_count": null,
   "metadata": {
    "ExecuteTime": {
     "end_time": "2025-01-25T14:01:26.067980Z",
     "start_time": "2025-01-25T14:01:25.878675Z"
    }
   },
   "outputs": [],
   "source": [
    "idealista = Idealista(\n",
    "    api_key=\"API_KEY_HERE\", api_secret=\"API_SECRET_HERE\"\n",
    ")\n",
    "s = Search(\n",
    "    \"es\",\n",
    "    location_id=\"0-EU-ES-15-15-001-030-02\",\n",
    "    property_type=\"homes\",\n",
    "    operation=\"sale\",\n",
    "    max_items=50,\n",
    "    num_page=2\n",
    ")\n",
    "\n",
    "resultado = idealista.query(s)\n"
   ]
  },
  {
   "cell_type": "code",
   "execution_count": null,
   "metadata": {
    "ExecuteTime": {
     "end_time": "2025-01-25T14:01:27.930615Z",
     "start_time": "2025-01-25T14:01:27.915225Z"
    },
    "collapsed": false
   },
   "outputs": [],
   "source": [
    "df_elementList = pd.json_normalize([element.to_dict() for element in resultado.element_list])\n",
    "df_elementList"
   ]
  },
  {
   "cell_type": "code",
   "execution_count": null,
   "metadata": {
    "ExecuteTime": {
     "end_time": "2025-01-25T14:01:13.497017Z",
     "start_time": "2025-01-25T14:01:13.494212Z"
    },
    "collapsed": false
   },
   "outputs": [],
   "source": [
    "resultado.element_list[0].to_dict()"
   ]
  }
 ],
 "metadata": {
  "kernelspec": {
   "display_name": "env",
   "language": "python",
   "name": "python3"
  },
  "language_info": {
   "codemirror_mode": {
    "name": "ipython",
    "version": 3
   },
   "file_extension": ".py",
   "mimetype": "text/x-python",
   "name": "python",
   "nbconvert_exporter": "python",
   "pygments_lexer": "ipython3",
   "version": "3.13.7"
  },
  "orig_nbformat": 2
 },
 "nbformat": 4,
 "nbformat_minor": 2
}
